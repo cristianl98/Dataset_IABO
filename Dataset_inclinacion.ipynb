{
  "nbformat": 4,
  "nbformat_minor": 0,
  "metadata": {
    "colab": {
      "name": "Dataset_inclinacion.ipynb",
      "provenance": [],
      "collapsed_sections": []
    },
    "kernelspec": {
      "name": "python3",
      "display_name": "Python 3"
    },
    "language_info": {
      "name": "python"
    }
  },
  "cells": [
    {
      "cell_type": "code",
      "execution_count": null,
      "metadata": {
        "id": "TAUVgvgIR1vK"
      },
      "outputs": [],
      "source": [
        "\n",
        "import openpyxl"
      ]
    },
    {
      "cell_type": "code",
      "source": [
        "!git clone https://github.com/cristianl98/Dataset_IABO"
      ],
      "metadata": {
        "colab": {
          "base_uri": "https://localhost:8080/"
        },
        "id": "JyVXPjZ9Gabw",
        "outputId": "85c33679-9a20-4ccf-e75f-a5fd710c8d6d"
      },
      "execution_count": 4,
      "outputs": [
        {
          "output_type": "stream",
          "name": "stdout",
          "text": [
            "Cloning into 'Dataset_IABO'...\n",
            "remote: Enumerating objects: 25, done.\u001b[K\n",
            "remote: Counting objects:   4% (1/25)\u001b[K\rremote: Counting objects:   8% (2/25)\u001b[K\rremote: Counting objects:  12% (3/25)\u001b[K\rremote: Counting objects:  16% (4/25)\u001b[K\rremote: Counting objects:  20% (5/25)\u001b[K\rremote: Counting objects:  24% (6/25)\u001b[K\rremote: Counting objects:  28% (7/25)\u001b[K\rremote: Counting objects:  32% (8/25)\u001b[K\rremote: Counting objects:  36% (9/25)\u001b[K\rremote: Counting objects:  40% (10/25)\u001b[K\rremote: Counting objects:  44% (11/25)\u001b[K\rremote: Counting objects:  48% (12/25)\u001b[K\rremote: Counting objects:  52% (13/25)\u001b[K\rremote: Counting objects:  56% (14/25)\u001b[K\rremote: Counting objects:  60% (15/25)\u001b[K\rremote: Counting objects:  64% (16/25)\u001b[K\rremote: Counting objects:  68% (17/25)\u001b[K\rremote: Counting objects:  72% (18/25)\u001b[K\rremote: Counting objects:  76% (19/25)\u001b[K\rremote: Counting objects:  80% (20/25)\u001b[K\rremote: Counting objects:  84% (21/25)\u001b[K\rremote: Counting objects:  88% (22/25)\u001b[K\rremote: Counting objects:  92% (23/25)\u001b[K\rremote: Counting objects:  96% (24/25)\u001b[K\rremote: Counting objects: 100% (25/25)\u001b[K\rremote: Counting objects: 100% (25/25), done.\u001b[K\n",
            "remote: Compressing objects: 100% (22/22), done.\u001b[K\n",
            "remote: Total 25 (delta 6), reused 0 (delta 0), pack-reused 0\u001b[K\n",
            "Unpacking objects: 100% (25/25), done.\n"
          ]
        }
      ]
    },
    {
      "cell_type": "markdown",
      "source": [
        "**Librerias**"
      ],
      "metadata": {
        "id": "ZEpfof8mVH2_"
      }
    },
    {
      "cell_type": "code",
      "source": [
        "import pandas as pd\n",
        "import numpy as np\n",
        "import matplotlib.pyplot as plt\n",
        "import xlrd\n",
        "wb=xlrd.open_workbook(\"/content/Dataset_IABO/Dataset_inclinacion.xlsx\")\n"
      ],
      "metadata": {
        "id": "ILH3bDgsSAtu"
      },
      "execution_count": 5,
      "outputs": []
    },
    {
      "cell_type": "markdown",
      "source": [
        "**Datos**\n",
        "\n",
        "\n",
        "\n",
        "Se sacan los datos del excel"
      ],
      "metadata": {
        "id": "LsASf4QwAB8H"
      }
    },
    {
      "cell_type": "code",
      "source": [
        "sheet = wb.sheet_by_index(0)\n",
        "ax_f=sheet.col_values(0)\n",
        "ay_f=sheet.col_values(1)\n",
        "sheet = wb.sheet_by_index(1)\n",
        "ax_b=sheet.col_values(0)\n",
        "ay_b=sheet.col_values(1)\n",
        "sheet = wb.sheet_by_index(2)\n",
        "ax_r=sheet.col_values(0)\n",
        "ay_r=sheet.col_values(1)\n",
        "sheet = wb.sheet_by_index(3)\n",
        "ax_s=sheet.col_values(0)\n",
        "ay_s=sheet.col_values(1)\n",
        "sheet = wb.sheet_by_index(4)\n",
        "ax_l=sheet.col_values(0)\n",
        "ay_l=sheet.col_values(1)"
      ],
      "metadata": {
        "id": "MVU0FkGk_8bU"
      },
      "execution_count": 6,
      "outputs": []
    },
    {
      "cell_type": "markdown",
      "source": [
        "**Segmentacion**"
      ],
      "metadata": {
        "id": "lup17xfHCIwL"
      }
    },
    {
      "cell_type": "code",
      "source": [
        "N=10.0                      # Número de muestras\n",
        "nV=np.array(np.shape(ax_f))   # Número de muestras de la señal\n",
        "segment = np.floor(nV/N)    # Número de segmetos de la señal\n",
        "print(\"Segmentos : \",segment)"
      ],
      "metadata": {
        "colab": {
          "base_uri": "https://localhost:8080/"
        },
        "id": "W85OpTLECRlo",
        "outputId": "6b940480-cc44-48d6-d7d8-aadc6e3e2b1f"
      },
      "execution_count": null,
      "outputs": [
        {
          "output_type": "stream",
          "name": "stdout",
          "text": [
            "Segmentos :  [5.]\n"
          ]
        }
      ]
    },
    {
      "cell_type": "markdown",
      "source": [
        "**Varianza**\n",
        "\n",
        "Se calcula la carianza de los cinco estados de inclinacion"
      ],
      "metadata": {
        "id": "K6ZujNFRCYsf"
      }
    },
    {
      "cell_type": "code",
      "source": [
        "var_ventana_ax_f=[]\n",
        "var_ventana_ay_f=[]\n",
        "var_ventana_ax_b=[]\n",
        "var_ventana_ay_b=[]\n",
        "var_ventana_ax_s=[]\n",
        "var_ventana_ay_s=[]\n",
        "var_ventana_ax_r=[]\n",
        "var_ventana_ay_r=[]\n",
        "var_ventana_ax_l=[]\n",
        "var_ventana_ay_l=[]\n",
        "\n",
        "for i in range (0,np.int(segment)):\n",
        "  ventana_ax_f=ax_f[int(i*N):int((i+1)*N)]\n",
        "  ventana_ay_f=ay_f[int(i*N):int((i+1)*N)]\n",
        "  var_ventana_ax_f.append(np.var(ventana_ax_f))\n",
        "  var_ventana_ay_f.append(np.var(ventana_ay_f))\n",
        "\n",
        "  ventana_ax_b=ax_b[int(i*N):int((i+1)*N)]\n",
        "  ventana_ay_b=ay_b[int(i*N):int((i+1)*N)]\n",
        "  var_ventana_ax_b.append(np.var(ventana_ax_b))\n",
        "  var_ventana_ay_b.append(np.var(ventana_ay_b))\n",
        "\n",
        "  ventana_ax_s=ax_s[int(i*N):int((i+1)*N)]\n",
        "  ventana_ay_s=ay_s[int(i*N):int((i+1)*N)]\n",
        "  var_ventana_ax_s.append(np.var(ventana_ax_s))\n",
        "  var_ventana_ay_s.append(np.var(ventana_ay_s))\n",
        "\n",
        "  ventana_ax_r=ax_r[int(i*N):int((i+1)*N)]\n",
        "  ventana_ay_r=ay_r[int(i*N):int((i+1)*N)]\n",
        "  var_ventana_ax_r.append(np.var(ventana_ax_r))\n",
        "  var_ventana_ay_r.append(np.var(ventana_ay_r))\n",
        "\n",
        "  ventana_ax_l=ax_l[int(i*N):int((i+1)*N)]\n",
        "  ventana_ay_l=ay_l[int(i*N):int((i+1)*N)]\n",
        "  var_ventana_ax_l.append(np.var(ventana_ax_l))\n",
        "  var_ventana_ay_l.append(np.var(ventana_ay_l))  \n",
        "\n",
        "\n",
        "# plt.subplot(211)\n",
        "# plt.plot(var_ventana_ax_f)\n",
        "# plt.subplot(212)\n",
        "# plt.plot(var_ventana_ay_f)\n",
        "# plt.figure()\n",
        "# plt.subplot(211)\n",
        "# plt.plot(var_ventana_ax_b)\n",
        "# plt.subplot(212)\n",
        "# plt.plot(var_ventana_ay_b)\n",
        "# plt.figure()\n",
        "# plt.subplot(211)\n",
        "# plt.plot(var_ventana_ax_s)\n",
        "# plt.subplot(212)\n",
        "# plt.plot(var_ventana_ay_s)\n",
        "# plt.figure()\n",
        "# plt.subplot(211)\n",
        "# plt.plot(var_ventana_ax_r)\n",
        "# plt.subplot(212)\n",
        "# plt.plot(var_ventana_ay_r)\n",
        "# plt.figure()\n",
        "# plt.subplot(211)\n",
        "# plt.plot(var_ventana_ax_l)\n",
        "# plt.subplot(212)\n",
        "# plt.plot(var_ventana_ay_l)\n",
        "# plt.figure()"
      ],
      "metadata": {
        "id": "9bf3SveOCWxf"
      },
      "execution_count": null,
      "outputs": []
    },
    {
      "cell_type": "markdown",
      "source": [
        "**Caracteristicas**"
      ],
      "metadata": {
        "id": "qzLNKkx8XkeM"
      }
    },
    {
      "cell_type": "code",
      "source": [
        "N=np.size(var_ventana_ay_f)\n",
        "print(N)\n",
        "clases=[]\n",
        "for n in range(N):\n",
        "  clases.append(0)\n",
        "N=np.size(var_ventana_ay_b)\n",
        "print(N)\n",
        "for n in range(N):\n",
        "  clases.append(1)\n",
        "N=np.size(var_ventana_ay_s)\n",
        "print(N)\n",
        "for n in range(N):\n",
        "  clases.append(2)\n",
        "N=np.size(var_ventana_ay_r)\n",
        "print(N)\n",
        "for n in range(N):\n",
        "  clases.append(3)\n",
        "N=np.size(var_ventana_ay_l)\n",
        "print(N)\n",
        "for n in range(N):\n",
        "  clases.append(4)\n",
        "clases=np.transpose(clases)"
      ],
      "metadata": {
        "id": "ksZvxk4NXEaV"
      },
      "execution_count": null,
      "outputs": []
    },
    {
      "cell_type": "code",
      "source": [
        "caracteristica1=var_ventana_ax_f+var_ventana_ax_b+var_ventana_ax_s+var_ventana_ax_r+var_ventana_ax_l\n",
        "caracteristica2=var_ventana_ay_f+var_ventana_ay_b+var_ventana_ay_s+var_ventana_ay_r+var_ventana_ay_l\n",
        "caracteristicas=[caracteristica1,caracteristica2]\n",
        "caracteristicas=np.array(np.transpose(caracteristicas))"
      ],
      "metadata": {
        "id": "JLX5fy4wXpal"
      },
      "execution_count": null,
      "outputs": []
    },
    {
      "cell_type": "markdown",
      "source": [
        "**Creacion de Datagrama**\n",
        "\n",
        "Creacion de datagrama de varianzas"
      ],
      "metadata": {
        "id": "TfEmu9S0YVBd"
      }
    },
    {
      "cell_type": "code",
      "source": [
        "# Creación del DataFrame\n",
        "import pandas as pd\n",
        "\n",
        "datosV={'Varianza_aX': caracteristica1,\n",
        "       'Varianza_aY': caracteristica2,\n",
        "       'Estado':clases}\n",
        "\n",
        "datosDF=pd.DataFrame(datosV)\n",
        "print(datosDF)"
      ],
      "metadata": {
        "id": "qeCYZLAXYaf9"
      },
      "execution_count": null,
      "outputs": []
    },
    {
      "cell_type": "code",
      "source": [
        "datosDF.to_excel(\"caracteristicas.xlsx\")"
      ],
      "metadata": {
        "id": "WDGAUjLNYnSm"
      },
      "execution_count": null,
      "outputs": []
    },
    {
      "cell_type": "markdown",
      "source": [
        "Creacion de datagrama de acelerometro"
      ],
      "metadata": {
        "id": "DQrpjU1NYotV"
      }
    },
    {
      "cell_type": "code",
      "source": [
        "# Creación del DataFrame\n",
        "import pandas as pd\n",
        "ax = ax_f + ax_b +ax_s + ax_r + ax_l\n",
        "ay = ay_f + ay_b +ay_s + ay_r + ay_l\n",
        "\n",
        "N=np.size(ay_f)\n",
        "print(N)\n",
        "clases=[]\n",
        "for n in range(N):\n",
        "  clases.append(0)\n",
        "N=np.size(ay_b)\n",
        "print(N)\n",
        "for n in range(N):\n",
        "  clases.append(1)\n",
        "N=np.size(ay_s)\n",
        "print(N)\n",
        "for n in range(N):\n",
        "  clases.append(2)\n",
        "N=np.size(ay_r)\n",
        "print(N)\n",
        "for n in range(N):\n",
        "  clases.append(3)\n",
        "N=np.size(ay_l)\n",
        "print(N)\n",
        "for n in range(N):\n",
        "  clases.append(4)\n",
        "clases=np.transpose(clases)\n",
        "\n",
        "datosV={'aX': ax,\n",
        "        'aY': ay,\n",
        "        'Estado':clases}\n",
        "\n",
        "datosDF=pd.DataFrame(datosV)\n",
        "print(datosDF)"
      ],
      "metadata": {
        "colab": {
          "base_uri": "https://localhost:8080/"
        },
        "id": "irdu0EumYtNd",
        "outputId": "b00dddc4-2d54-4ea2-a814-06a24bf2755f"
      },
      "execution_count": 8,
      "outputs": [
        {
          "output_type": "stream",
          "name": "stdout",
          "text": [
            "100\n",
            "100\n",
            "100\n",
            "100\n",
            "100\n",
            "          aX      aY  Estado\n",
            "0   -100.842  -5.762       0\n",
            "1   -100.061   4.211       0\n",
            "2    -96.729  -0.049       0\n",
            "3    -93.567   0.098       0\n",
            "4    -91.003  -1.208       0\n",
            "..       ...     ...     ...\n",
            "495   37.378  69.897       4\n",
            "496   41.479  65.674       4\n",
            "497   44.775  60.522       4\n",
            "498   45.435  66.223       4\n",
            "499   56.226  60.522       4\n",
            "\n",
            "[500 rows x 3 columns]\n"
          ]
        }
      ]
    },
    {
      "cell_type": "code",
      "source": [
        "datosDF.to_excel(\"DataFrame_Inclinacion.xlsx\")"
      ],
      "metadata": {
        "id": "bUkfMCJZaFq9"
      },
      "execution_count": 9,
      "outputs": []
    }
  ]
}